{
 "cells": [
  {
   "cell_type": "code",
   "execution_count": 21,
   "metadata": {},
   "outputs": [],
   "source": [
    "import argparse\n",
    "import os\n",
    "import shutil\n",
    "from langchain.document_loaders import PyPDFLoader\n",
    "from langchain_text_splitters import RecursiveCharacterTextSplitter\n",
    "from langchain.vectorstores.chroma import Chroma\n",
    "from langchain.embeddings import OpenAIEmbeddings\n",
    "from dotenv import load_dotenv"
   ]
  },
  {
   "cell_type": "code",
   "execution_count": 4,
   "metadata": {},
   "outputs": [],
   "source": [
    "CHROMA_PATH = \"chroma\"\n",
    "data_path = \"data/monopoly.pdf\"\n",
    "api_key = load_dotenv()\n",
    "api_key = os.getenv(\"OPENAI_API_KEY\")"
   ]
  },
  {
   "cell_type": "code",
   "execution_count": 5,
   "metadata": {},
   "outputs": [],
   "source": [
    "def load_documents():\n",
    "    loader = PyPDFLoader(data_path)\n",
    "    documents = loader.load()\n",
    "    return documents\n",
    "\n",
    "documents = load_documents()"
   ]
  },
  {
   "cell_type": "code",
   "execution_count": 6,
   "metadata": {},
   "outputs": [],
   "source": [
    "def split_text(documents: list):\n",
    "    text_splitter = RecursiveCharacterTextSplitter(\n",
    "        chunk_size = 1000,\n",
    "        chunk_overlap = 500,\n",
    "        length_function = len,\n",
    "        add_start_index = True\n",
    "    )\n",
    "    chunks = text_splitter.split_documents(documents)\n",
    "    print(f\"Split {len(documents)} into {len(chunks)} chunks.\")\n",
    "    return chunks"
   ]
  },
  {
   "cell_type": "code",
   "execution_count": 7,
   "metadata": {},
   "outputs": [
    {
     "name": "stdout",
     "output_type": "stream",
     "text": [
      "Split 8 into 29 chunks.\n"
     ]
    }
   ],
   "source": [
    "chunks = split_text(documents)"
   ]
  },
  {
   "cell_type": "code",
   "execution_count": 8,
   "metadata": {},
   "outputs": [
    {
     "name": "stdout",
     "output_type": "stream",
     "text": [
      "MONOPOLY \n",
      "Property Trading Game from Parker Brothers\" \n",
      "AGES 8+ \n",
      "2 to 8 Players \n",
      "Contents: Gameboard, 3 dice, tokens, 32 houses, I2 hotels, Chance \n",
      "and Community Chest cards, Title Deed cards, play money and a Banker's tray. \n",
      "Now there's a faster way to play MONOPOLY. Choose to play by \n",
      "the classic rules for buying, renting and selling properties or use the \n",
      "Speed Die to get into the action faster. If you've never played the classic \n",
      "MONOPOLY game, refer to the Classic Rules beginning on the next page. \n",
      "If you already know how to play and want to use the Speed Die, just \n",
      "read the section below for the additional Speed Die rules. \n",
      "SPEED DIE RULES \n",
      "Learnins how to Play with the S~eed Die IS as \n",
      "/ \n",
      "fast as playing with i't. \n",
      "1. When starting the game, hand out an extra $1,000 to each player \n",
      "(two $5005 should work). The game moves fast and you'll need \n",
      "the extra cash to buy and build. \n",
      "2. Do not use the Speed Die until you've landed on or passed over\n",
      "{'producer': 'Adobe Acrobat 7.0 Paper Capture Plug-in', 'creator': 'Adobe Acrobat 7.0', 'creationdate': '2007-05-03T12:38:10-04:00', 'moddate': '2007-05-03T12:52:41-04:00', 'source': 'data/monopoly.pdf', 'total_pages': 8, 'page': 0, 'page_label': '1', 'start_index': 0}\n"
     ]
    }
   ],
   "source": [
    "print(chunks[0].page_content)\n",
    "print(chunks[0].metadata)"
   ]
  },
  {
   "cell_type": "code",
   "execution_count": 20,
   "metadata": {},
   "outputs": [
    {
     "name": "stdout",
     "output_type": "stream",
     "text": [
      "Saved 29) chunks to chroma\n"
     ]
    },
    {
     "name": "stderr",
     "output_type": "stream",
     "text": [
      "/var/folders/4k/zr7r4x5s7szf89g_d1c944m80000gn/T/ipykernel_66396/403956037.py:6: LangChainDeprecationWarning: Since Chroma 0.4.x the manual persistence method is no longer supported as docs are automatically persisted.\n",
      "  db.persist()\n"
     ]
    }
   ],
   "source": [
    "def save_to_chrom(chunks: list):\n",
    "\n",
    "    db = Chroma.from_documents(\n",
    "        chunks, OpenAIEmbeddings(), persist_directory = CHROMA_PATH\n",
    "    )\n",
    "    db.persist()\n",
    "    print(f\"Saved {len(chunks)}) chunks to {CHROMA_PATH}\")\n",
    "\n",
    "save_to_chrom(chunks)"
   ]
  },
  {
   "cell_type": "code",
   "execution_count": 31,
   "metadata": {},
   "outputs": [],
   "source": [
    "def context(query_text):\n",
    "    # parser = argparse.ArgumentParser()\n",
    "    # parser.add_argument(\"query_text\", type = str, help = \"The query text.\")\n",
    "    # args = parser.parse_args()\n",
    "\n",
    "    # query_text = args.query_text\n",
    "\n",
    "\n",
    "    embedding_function = OpenAIEmbeddings()\n",
    "    db = Chroma(persist_directory=CHROMA_PATH, embedding_function=embedding_function)\n",
    "\n",
    "    results = db.similarity_search_with_relevance_scores(query_text, k=3)\n",
    "    if len(results) == 0 or results[0][1] < 0.6:\n",
    "        print(\"Unable to find matching results\")\n",
    "        return\n",
    "    \n",
    "    context_text = \"\\n\\n---\\n\\n\".join([doc.page_content for doc, _score in results])\n",
    "    print(context_text)"
   ]
  },
  {
   "cell_type": "code",
   "execution_count": 32,
   "metadata": {},
   "outputs": [
    {
     "name": "stdout",
     "output_type": "stream",
     "text": [
      "as Banker and Auctioneer. \n",
      "THE BANK: Besides the Bank's money, the Bank \n",
      "holds the Title Deed cards and houses and hotels prior to purchase \n",
      "and use by the players. The Bank pays salaries and bonuses. It sells \n",
      "and auctions properties and hands out the~r proper Title Deed cards; \n",
      "it sells houses and hotels to the players and loans money when \n",
      "required on mortgages. \n",
      "The Bank collects all taxes, fines, loans and interest, and the price of \n",
      "all properties which it sells and auctions. \n",
      "The Bank nwer \"goes broke.\" If the Bank runs out of money, the Banker \n",
      "may issue as much more as needed by writing on any ordinary paper. \n",
      "THE PLAY: Starting with the Banker, each player in turn throws the dice. \n",
      "The player with the highest total starts the play: Place your \n",
      "token on the corner marked \"GO,\" throw the dice and move \n",
      "your token in the direction of the arrow the number of \n",
      "spaces indicated by the dice. After you have completed \n",
      "your play, the turn passes to the left. The tokens remain\n",
      "\n",
      "---\n",
      "\n",
      "Each player is given $1,500 divided as follows: P each of $500s, \n",
      "$100~ and $50~; 6 $40~; 5 each of $105, $5~ and $Is. \n",
      "All remaining money and other equipment go to the Bank. Stack the .. \n",
      "Bank's money on edge in the compartments in the plastic Banker's tray. \n",
      "BANKER. Select as Banker a player who will also \n",
      "make a good Auctioneer A Banker who plays \n",
      "~n the game must keep hislher personal funds \n",
      "separate from those of the Bank. When more than \n",
      "f~ve persons play, the Banker may elect to act only \n",
      "as Banker and Auctioneer. \n",
      "THE BANK: Besides the Bank's money, the Bank \n",
      "holds the Title Deed cards and houses and hotels prior to purchase \n",
      "and use by the players. The Bank pays salaries and bonuses. It sells \n",
      "and auctions properties and hands out the~r proper Title Deed cards; \n",
      "it sells houses and hotels to the players and loans money when \n",
      "required on mortgages. \n",
      "The Bank collects all taxes, fines, loans and interest, and the price of \n",
      "all properties which it sells and auctions.\n",
      "\n",
      "---\n",
      "\n",
      "BANKRUPTCY.. You are declared bankrupt if you owe more than you \n",
      "can pay either to another player or to the Bank. If your \n",
      " , \n",
      "debt is to another player, you must tum over to that \n",
      "player all that you have of value and retire from the \n",
      "game. In making this settlement, if you own houses or \n",
      "hotels, you must retum these to the Bank in exchange \n",
      "for money to the extent of one-half the amount paid \n",
      "for them; this cash is given to the creditor. If you have \n",
      "mortgaged property you also turn this property over \n",
      "to your creditor but the new owner must at once pay . \n",
      "the Bank the amount of interest on the loan, which is 10% of the value of \n",
      "the property. The new owner who does this may then, at hislher option, \n",
      "pay the principal or hold the property until some later turn, then lift the \n",
      "mortgage. If helshe holds property in this way until a later turn, helshe \n",
      "must pay the interest again upon lifting the mortgage. \n",
      "Should you owe the Bank, instead of another player, more than you\n"
     ]
    }
   ],
   "source": [
    "context(\"What does a banker do\")"
   ]
  },
  {
   "cell_type": "code",
   "execution_count": null,
   "metadata": {},
   "outputs": [],
   "source": []
  }
 ],
 "metadata": {
  "kernelspec": {
   "display_name": "llm_extraction",
   "language": "python",
   "name": "python3"
  },
  "language_info": {
   "codemirror_mode": {
    "name": "ipython",
    "version": 3
   },
   "file_extension": ".py",
   "mimetype": "text/x-python",
   "name": "python",
   "nbconvert_exporter": "python",
   "pygments_lexer": "ipython3",
   "version": "3.13.3"
  }
 },
 "nbformat": 4,
 "nbformat_minor": 2
}
